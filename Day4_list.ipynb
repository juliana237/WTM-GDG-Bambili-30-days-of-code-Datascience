{
  "nbformat": 4,
  "nbformat_minor": 0,
  "metadata": {
    "colab": {
      "provenance": [],
      "authorship_tag": "ABX9TyMZVJqkJ9sodGH6WgBnYY7G",
      "include_colab_link": true
    },
    "kernelspec": {
      "name": "python3",
      "display_name": "Python 3"
    },
    "language_info": {
      "name": "python"
    }
  },
  "cells": [
    {
      "cell_type": "markdown",
      "metadata": {
        "id": "view-in-github",
        "colab_type": "text"
      },
      "source": [
        "<a href=\"https://colab.research.google.com/github/juliana237/WTM-GDG-Bambili-30-days-of-code-Datascience/blob/main/Day4_list.ipynb\" target=\"_parent\"><img src=\"https://colab.research.google.com/assets/colab-badge.svg\" alt=\"Open In Colab\"/></a>"
      ]
    },
    {
      "cell_type": "code",
      "execution_count": 1,
      "metadata": {
        "colab": {
          "base_uri": "https://localhost:8080/"
        },
        "id": "7UMGOvGm0Icq",
        "outputId": "19acfc05-1250-4e04-da9c-071544d98637"
      },
      "outputs": [
        {
          "output_type": "stream",
          "name": "stdout",
          "text": [
            "['hello', 'world', 'my', 'name', 'julia', 3.33, 1.0, 9.999, 100.1, 1.5, 1, 2, 3, 4]\n"
          ]
        }
      ],
      "source": [
        "#task1\n",
        "list1=[\"hello\",\"world\",\"my\",\"name\",\"julia\",3.33,1.0,9.999,100.1,1.5,1,2,3,4]\n",
        "print(list1)"
      ]
    },
    {
      "cell_type": "code",
      "source": [
        "var1=[\"hello\"+\"world\"]\n",
        "list0=var1+list1\n",
        "print(list0)\n",
        "#notice that we concatenate 2 list "
      ],
      "metadata": {
        "colab": {
          "base_uri": "https://localhost:8080/"
        },
        "id": "ykDsjZbK2clc",
        "outputId": "3fb88263-f81f-4029-8c83-cc32b8ee73cf"
      },
      "execution_count": 10,
      "outputs": [
        {
          "output_type": "stream",
          "name": "stdout",
          "text": [
            "['helloworld', 'hello', 'world', 'my', 'name', 'julia', 3.33, 1.0, 9.999, 100.1, 1.5, 1, 2, 3, 4]\n"
          ]
        }
      ]
    },
    {
      "cell_type": "code",
      "source": [
        "list4=[1,2,3,4,5,1.2,2.2,3.3,4.2,5.5,6.0,\"i am\",\"learning\",\"data\",\"science\"]"
      ],
      "metadata": {
        "id": "5hjjJFZr66uT"
      },
      "execution_count": 6,
      "outputs": []
    },
    {
      "cell_type": "code",
      "source": [
        "list5 = list1 + list4\n",
        "print(list5)"
      ],
      "metadata": {
        "colab": {
          "base_uri": "https://localhost:8080/"
        },
        "id": "UKxpOLb_8ptv",
        "outputId": "61c0e5db-9360-4675-9526-32c08fe3ac05"
      },
      "execution_count": 9,
      "outputs": [
        {
          "output_type": "stream",
          "name": "stdout",
          "text": [
            "['hello', 'world', 'my', 'name', 'julia', 3.33, 1.0, 9.999, 100.1, 1.5, 1, 2, 3, 4, 1, 2, 3, 4, 5, 1.2, 2.2, 3.3, 4.2, 5.5, 6.0, 'i am', 'learning', 'data', 'science']\n"
          ]
        }
      ]
    },
    {
      "cell_type": "code",
      "source": [
        "#task2\n",
        "list2=[5,6,7.0,\"eight\",\"nine\"]\n",
        "list3=[\"int\",\"int\",\"float\",\"str\",\"str\"]"
      ],
      "metadata": {
        "id": "-YgpZQWN9UYa"
      },
      "execution_count": null,
      "outputs": []
    }
  ]
}