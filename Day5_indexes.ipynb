{
  "nbformat": 4,
  "nbformat_minor": 0,
  "metadata": {
    "colab": {
      "provenance": [],
      "authorship_tag": "ABX9TyOMx9HXhAV0cGL4stctR078",
      "include_colab_link": true
    },
    "kernelspec": {
      "name": "python3",
      "display_name": "Python 3"
    },
    "language_info": {
      "name": "python"
    }
  },
  "cells": [
    {
      "cell_type": "markdown",
      "metadata": {
        "id": "view-in-github",
        "colab_type": "text"
      },
      "source": [
        "<a href=\"https://colab.research.google.com/github/juliana237/WTM-GDG-Bambili-30-days-of-code-Datascience/blob/main/Day5_indexes.ipynb\" target=\"_parent\"><img src=\"https://colab.research.google.com/assets/colab-badge.svg\" alt=\"Open In Colab\"/></a>"
      ]
    },
    {
      "cell_type": "code",
      "execution_count": 9,
      "metadata": {
        "colab": {
          "base_uri": "https://localhost:8080/"
        },
        "id": "3Olx0AeeME0y",
        "outputId": "995f371e-7e2f-42b1-ae3b-873742e4ed6a"
      },
      "outputs": [
        {
          "output_type": "stream",
          "name": "stdout",
          "text": [
            "1\n",
            "9\n"
          ]
        }
      ],
      "source": [
        "listindex1=[1,2,3,4,5,6,7,8,9,10]\n",
        "print(listindex1[0])\n",
        "print(listindex1[8])"
      ]
    },
    {
      "cell_type": "code",
      "source": [
        "var1=listindex1[4]\n",
        "print(var1)"
      ],
      "metadata": {
        "colab": {
          "base_uri": "https://localhost:8080/"
        },
        "id": "PLeVWuqtP0hY",
        "outputId": "70455996-85e8-4b23-e9a9-56c1a613d169"
      },
      "execution_count": 7,
      "outputs": [
        {
          "output_type": "stream",
          "name": "stdout",
          "text": [
            "5\n"
          ]
        }
      ]
    },
    {
      "cell_type": "markdown",
      "source": [
        "we get an error trying to access the 12th element because its out of range"
      ],
      "metadata": {
        "id": "wdon2_znUsmr"
      }
    },
    {
      "cell_type": "code",
      "source": [
        "listindex2=listindex1[3:6]\n",
        "print(listindex2)\n"
      ],
      "metadata": {
        "colab": {
          "base_uri": "https://localhost:8080/"
        },
        "id": "weqj6HjZVKah",
        "outputId": "4fbd8d4a-4f84-45fe-bdca-1dbf634ff21f"
      },
      "execution_count": 18,
      "outputs": [
        {
          "output_type": "stream",
          "name": "stdout",
          "text": [
            "[4, 5, 6]\n"
          ]
        }
      ]
    }
  ]
}