{
  "nbformat": 4,
  "nbformat_minor": 0,
  "metadata": {
    "colab": {
      "provenance": [],
      "authorship_tag": "ABX9TyO9CRR1vK+Dg+MgqHQOcSsa",
      "include_colab_link": true
    },
    "kernelspec": {
      "name": "python3",
      "display_name": "Python 3"
    },
    "language_info": {
      "name": "python"
    }
  },
  "cells": [
    {
      "cell_type": "markdown",
      "metadata": {
        "id": "view-in-github",
        "colab_type": "text"
      },
      "source": [
        "<a href=\"https://colab.research.google.com/github/juliana237/WTM-GDG-Bambili-30-days-of-code-Datascience/blob/main/Day_2.ipynb\" target=\"_parent\"><img src=\"https://colab.research.google.com/assets/colab-badge.svg\" alt=\"Open In Colab\"/></a>"
      ]
    },
    {
      "cell_type": "code",
      "execution_count": 2,
      "metadata": {
        "id": "U_jIuhmaEbiH"
      },
      "outputs": [],
      "source": [
        "sample_variable=None"
      ]
    },
    {
      "cell_type": "code",
      "source": [
        "#This is an example\n",
        "#This code will not be executed even if you click play"
      ],
      "metadata": {
        "id": "k9-YS9JVYuyr"
      },
      "execution_count": null,
      "outputs": []
    },
    {
      "cell_type": "code",
      "source": [
        "sample_variable=\"Hello world\""
      ],
      "metadata": {
        "id": "hI9emF1ZaC71"
      },
      "execution_count": 3,
      "outputs": []
    },
    {
      "cell_type": "code",
      "source": [
        "print(sample_variable)"
      ],
      "metadata": {
        "id": "cVO8NrkIap2m",
        "outputId": "e9615bb1-8cd6-4baa-e5ea-62882a7a918e",
        "colab": {
          "base_uri": "https://localhost:8080/"
        }
      },
      "execution_count": 4,
      "outputs": [
        {
          "output_type": "stream",
          "name": "stdout",
          "text": [
            "Hello world\n"
          ]
        }
      ]
    }
  ]
}