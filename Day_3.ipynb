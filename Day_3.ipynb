{
  "nbformat": 4,
  "nbformat_minor": 0,
  "metadata": {
    "colab": {
      "provenance": [],
      "authorship_tag": "ABX9TyPJeAO2aSX9b7dcF2owWf46",
      "include_colab_link": true
    },
    "kernelspec": {
      "name": "python3",
      "display_name": "Python 3"
    },
    "language_info": {
      "name": "python"
    }
  },
  "cells": [
    {
      "cell_type": "markdown",
      "metadata": {
        "id": "view-in-github",
        "colab_type": "text"
      },
      "source": [
        "<a href=\"https://colab.research.google.com/github/juliana237/WTM-GDG-Bambili-30-days-of-code-Datascience/blob/main/Day_3.ipynb\" target=\"_parent\"><img src=\"https://colab.research.google.com/assets/colab-badge.svg\" alt=\"Open In Colab\"/></a>"
      ]
    },
    {
      "cell_type": "code",
      "source": [
        "answer=2+2\n",
        "print(answer)"
      ],
      "metadata": {
        "colab": {
          "base_uri": "https://localhost:8080/"
        },
        "id": "6jLEWw4lCNgK",
        "outputId": "ea83a5b2-9f82-4aad-91b7-079591c894f0"
      },
      "execution_count": 2,
      "outputs": [
        {
          "output_type": "stream",
          "name": "stdout",
          "text": [
            "4\n"
          ]
        }
      ]
    },
    {
      "cell_type": "markdown",
      "source": [
        "simple addition of intergers"
      ],
      "metadata": {
        "id": "hF3nMnBoKWKq"
      }
    },
    {
      "cell_type": "code",
      "source": [
        "var1=2+2\n",
        "print(var1)\n",
        "#var1 is of type intergers"
      ],
      "metadata": {
        "colab": {
          "base_uri": "https://localhost:8080/"
        },
        "id": "L_kbYQtpDWFf",
        "outputId": "f09acb02-d2f0-455a-dd45-d8086d05edbc"
      },
      "execution_count": 4,
      "outputs": [
        {
          "output_type": "stream",
          "name": "stdout",
          "text": [
            "4\n"
          ]
        }
      ]
    },
    {
      "cell_type": "markdown",
      "source": [
        "assigning intergers to variables\n",
        "addition of intergers\n",
        "result gives an interger"
      ],
      "metadata": {
        "id": "1mS1FinCKYLo"
      }
    },
    {
      "cell_type": "code",
      "source": [
        "var2=3+2/5\n",
        "print(var2)\n",
        "#var2 is of data type float"
      ],
      "metadata": {
        "colab": {
          "base_uri": "https://localhost:8080/"
        },
        "id": "8ZpR1tIxD9jG",
        "outputId": "a020a520-3e2e-4b5a-aa08-8d4621952c2e"
      },
      "execution_count": 6,
      "outputs": [
        {
          "output_type": "stream",
          "name": "stdout",
          "text": [
            "3.4\n"
          ]
        }
      ]
    },
    {
      "cell_type": "markdown",
      "source": [
        "addition of intergers and result gives a float"
      ],
      "metadata": {
        "id": "D1bVk1KSLRD0"
      }
    },
    {
      "cell_type": "code",
      "source": [
        "var3=4*16\n",
        "print(var3)\n",
        "#var3 is of data type int"
      ],
      "metadata": {
        "colab": {
          "base_uri": "https://localhost:8080/"
        },
        "id": "seeSj6TEEbCH",
        "outputId": "3a45536e-3de5-4030-ac2e-ebea2f53fcf8"
      },
      "execution_count": 8,
      "outputs": [
        {
          "output_type": "stream",
          "name": "stdout",
          "text": [
            "64\n"
          ]
        }
      ]
    },
    {
      "cell_type": "markdown",
      "source": [
        "multiplication of intergers"
      ],
      "metadata": {
        "id": "992xY_nULgaE"
      }
    },
    {
      "cell_type": "code",
      "source": [
        "var4= 4**6\n",
        "print(var4)\n",
        "#var4 is of type int"
      ],
      "metadata": {
        "colab": {
          "base_uri": "https://localhost:8080/"
        },
        "id": "nGr2HPGSE7on",
        "outputId": "2a2f252a-a6a2-4d19-9851-b6b3796395ec"
      },
      "execution_count": 12,
      "outputs": [
        {
          "output_type": "stream",
          "name": "stdout",
          "text": [
            "4096\n"
          ]
        }
      ]
    },
    {
      "cell_type": "markdown",
      "source": [
        "using the power opertor to evaluate 4 raised to the power 6"
      ],
      "metadata": {
        "id": "mnQhfX7DLot8"
      }
    },
    {
      "cell_type": "code",
      "source": [
        "var5='hello' + '' + 'world'\n",
        "print(var5)\n",
        "#var5 is of type string"
      ],
      "metadata": {
        "colab": {
          "base_uri": "https://localhost:8080/"
        },
        "id": "jJEs6RZHGrnt",
        "outputId": "130d3802-f031-4f6e-c9c1-5de41de8cd2a"
      },
      "execution_count": 15,
      "outputs": [
        {
          "output_type": "stream",
          "name": "stdout",
          "text": [
            "helloworld\n"
          ]
        }
      ]
    },
    {
      "cell_type": "markdown",
      "source": [
        "concatenation(addition) of 2 strings to give a string"
      ],
      "metadata": {
        "id": "Ml-dODFmMEAf"
      }
    },
    {
      "cell_type": "code",
      "source": [
        "var6=\"hello world\"*5\n",
        "print(var6)\n",
        "#data type string"
      ],
      "metadata": {
        "colab": {
          "base_uri": "https://localhost:8080/"
        },
        "id": "woiM27O5HzKj",
        "outputId": "dfdc5e13-be95-433a-ce5e-d315275b12fb"
      },
      "execution_count": 17,
      "outputs": [
        {
          "output_type": "stream",
          "name": "stdout",
          "text": [
            "hello worldhello worldhello worldhello worldhello world\n"
          ]
        }
      ]
    },
    {
      "cell_type": "markdown",
      "source": [
        "concatenation of a sting 5 times"
      ],
      "metadata": {
        "id": "uSUcJ5ITMabp"
      }
    },
    {
      "cell_type": "code",
      "source": [
        "var7=4%3\n",
        "print(var7)\n",
        "#var7 is of data type int"
      ],
      "metadata": {
        "colab": {
          "base_uri": "https://localhost:8080/"
        },
        "id": "N8AT1UhHInYl",
        "outputId": "b5c3596c-1461-43d0-b89c-c1bde89e7381"
      },
      "execution_count": 18,
      "outputs": [
        {
          "output_type": "stream",
          "name": "stdout",
          "text": [
            "1\n"
          ]
        }
      ]
    },
    {
      "cell_type": "markdown",
      "source": [
        "using the modulos operator % to evaluate 4mod3"
      ],
      "metadata": {
        "id": "Ip73kqqdMpsQ"
      }
    }
  ]
}